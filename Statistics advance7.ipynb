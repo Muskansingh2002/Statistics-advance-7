{
 "cells": [
  {
   "cell_type": "markdown",
   "id": "62bd8bd9-a824-477c-b10f-c0570e2b5536",
   "metadata": {},
   "source": [
    "Q1. Write a Python function that takes in two arrays of data and calculates the F-value for a variance ratio\n",
    "test. The function should return the F-value and the corresponding p-value for the test."
   ]
  },
  {
   "cell_type": "code",
   "execution_count": 1,
   "id": "fbb3f8ea-7b21-4ea9-a3e0-25e66bcde6ce",
   "metadata": {},
   "outputs": [
    {
     "name": "stdout",
     "output_type": "stream",
     "text": [
      "F-value: 1.2235481304693723\n",
      "P-value: 0.8497030844248135\n"
     ]
    }
   ],
   "source": [
    "import numpy as np\n",
    "from scipy.stats import f\n",
    "\n",
    "def variance_ratio_test(data1, data2):\n",
    "    \"\"\"\n",
    "    Perform a variance ratio test (F-test) to compare the variances of two datasets.\n",
    "    \n",
    "    Parameters:\n",
    "    data1 (array-like): The first dataset.\n",
    "    data2 (array-like): The second dataset.\n",
    "    \n",
    "    Returns:\n",
    "    float: The F-value for the test.\n",
    "    float: The p-value for the test.\n",
    "    \"\"\"\n",
    "    # Calculate variances\n",
    "    var1 = np.var(data1, ddof=1)  # ddof=1 provides the unbiased estimator\n",
    "    var2 = np.var(data2, ddof=1)\n",
    "\n",
    "    # Calculate the F-value\n",
    "    if var1 > var2:\n",
    "        F = var1 / var2\n",
    "        dfn = len(data1) - 1\n",
    "        dfd = len(data2) - 1\n",
    "    else:\n",
    "        F = var2 / var1\n",
    "        dfn = len(data2) - 1\n",
    "        dfd = len(data1) - 1\n",
    "\n",
    "    # Calculate the p-value\n",
    "    p_value = 2 * min(f.cdf(F, dfn, dfd), 1 - f.cdf(F, dfn, dfd))\n",
    "\n",
    "    return F, p_value\n",
    "\n",
    "# Example usage\n",
    "data1 = [20.1, 22.3, 19.8, 21.4, 22.0]\n",
    "data2 = [19.1, 21.2, 18.7, 20.3, 21.5]\n",
    "\n",
    "F_value, p_value = variance_ratio_test(data1, data2)\n",
    "print(f\"F-value: {F_value}\")\n",
    "print(f\"P-value: {p_value}\")\n"
   ]
  },
  {
   "cell_type": "code",
   "execution_count": null,
   "id": "0478ca4d-afbc-475a-af6a-00fd70d7d1af",
   "metadata": {},
   "outputs": [],
   "source": []
  },
  {
   "cell_type": "markdown",
   "id": "ffde98f0-4d30-412e-b232-75d47775a672",
   "metadata": {},
   "source": [
    "Q2. Given a significance level of 0.05 and the degrees of freedom for the numerator and denominator of an\n",
    "F-distribution, write a Python function that returns the critical F-value for a two-tailed test."
   ]
  },
  {
   "cell_type": "code",
   "execution_count": 2,
   "id": "2ff31505-e47d-472b-a36d-88b57d3af22a",
   "metadata": {},
   "outputs": [
    {
     "name": "stdout",
     "output_type": "stream",
     "text": [
      "Lower critical F-value: 0.15107670102998205\n",
      "Upper critical F-value: 4.236085668188633\n"
     ]
    }
   ],
   "source": [
    "import scipy.stats as stats\n",
    "\n",
    "def critical_f_value(alpha, dfn, dfd):\n",
    "    \"\"\"\n",
    "    Calculate the critical F-value for a two-tailed test.\n",
    "    \n",
    "    Parameters:\n",
    "    alpha (float): The significance level.\n",
    "    dfn (int): Degrees of freedom for the numerator.\n",
    "    dfd (int): Degrees of freedom for the denominator.\n",
    "    \n",
    "    Returns:\n",
    "    float: The critical F-value.\n",
    "    \"\"\"\n",
    "    # Adjust alpha for the two-tailed test\n",
    "    alpha_half = alpha / 2\n",
    "    \n",
    "    # Calculate the critical F-values for both tails\n",
    "    f_critical_low = stats.f.ppf(alpha_half, dfn, dfd)\n",
    "    f_critical_high = stats.f.ppf(1 - alpha_half, dfn, dfd)\n",
    "    \n",
    "    return f_critical_low, f_critical_high\n",
    "\n",
    "# Example usage\n",
    "alpha = 0.05\n",
    "dfn = 5\n",
    "dfd = 10\n",
    "\n",
    "f_critical_low, f_critical_high = critical_f_value(alpha, dfn, dfd)\n",
    "print(f\"Lower critical F-value: {f_critical_low}\")\n",
    "print(f\"Upper critical F-value: {f_critical_high}\")\n"
   ]
  },
  {
   "cell_type": "code",
   "execution_count": null,
   "id": "efe54107-2a9f-4ac1-99d3-198dfb3193c7",
   "metadata": {},
   "outputs": [],
   "source": []
  },
  {
   "cell_type": "markdown",
   "id": "e0b6805e-e817-4ca3-adf1-de1ae45ac29f",
   "metadata": {},
   "source": [
    "Q3. Write a Python program that generates random samples from two normal distributions with known\n",
    "variances and uses an F-test to determine if the variances are equal. The program should output the F-\n",
    "value, degrees of freedom, and p-value for the test."
   ]
  },
  {
   "cell_type": "code",
   "execution_count": 3,
   "id": "3935b406-eb86-458c-b127-badb31a7705e",
   "metadata": {},
   "outputs": [
    {
     "name": "stdout",
     "output_type": "stream",
     "text": [
      "F-value: 1.3378687039598216\n",
      "Degrees of freedom (numerator): 29\n",
      "Degrees of freedom (denominator): 29\n",
      "P-value: 0.43794277355585454\n"
     ]
    }
   ],
   "source": [
    "import numpy as np\n",
    "from scipy.stats import f\n",
    "\n",
    "def generate_samples(mean1, var1, size1, mean2, var2, size2, random_state=None):\n",
    "    \"\"\"\n",
    "    Generate random samples from two normal distributions.\n",
    "    \n",
    "    Parameters:\n",
    "    mean1 (float): Mean of the first distribution.\n",
    "    var1 (float): Variance of the first distribution.\n",
    "    size1 (int): Sample size for the first distribution.\n",
    "    mean2 (float): Mean of the second distribution.\n",
    "    var2 (float): Variance of the second distribution.\n",
    "    size2 (int): Sample size for the second distribution.\n",
    "    random_state (int, optional): Seed for the random number generator.\n",
    "    \n",
    "    Returns:\n",
    "    array-like: Samples from the first distribution.\n",
    "    array-like: Samples from the second distribution.\n",
    "    \"\"\"\n",
    "    np.random.seed(random_state)\n",
    "    sample1 = np.random.normal(mean1, np.sqrt(var1), size1)\n",
    "    sample2 = np.random.normal(mean2, np.sqrt(var2), size2)\n",
    "    return sample1, sample2\n",
    "\n",
    "def variance_ratio_test(sample1, sample2):\n",
    "    \"\"\"\n",
    "    Perform an F-test to compare the variances of two samples.\n",
    "    \n",
    "    Parameters:\n",
    "    sample1 (array-like): The first sample.\n",
    "    sample2 (array-like): The second sample.\n",
    "    \n",
    "    Returns:\n",
    "    float: The F-value for the test.\n",
    "    int: Degrees of freedom for the numerator.\n",
    "    int: Degrees of freedom for the denominator.\n",
    "    float: The p-value for the test.\n",
    "    \"\"\"\n",
    "    var1 = np.var(sample1, ddof=1)\n",
    "    var2 = np.var(sample2, ddof=1)\n",
    "    \n",
    "    if var1 > var2:\n",
    "        F = var1 / var2\n",
    "        dfn = len(sample1) - 1\n",
    "        dfd = len(sample2) - 1\n",
    "    else:\n",
    "        F = var2 / var1\n",
    "        dfn = len(sample2) - 1\n",
    "        dfd = len(sample1) - 1\n",
    "    \n",
    "    p_value = 2 * min(f.cdf(F, dfn, dfd), 1 - f.cdf(F, dfn, dfd))\n",
    "    \n",
    "    return F, dfn, dfd, p_value\n",
    "\n",
    "# Example usage\n",
    "mean1, var1, size1 = 10, 4, 30\n",
    "mean2, var2, size2 = 15, 5, 30\n",
    "\n",
    "sample1, sample2 = generate_samples(mean1, var1, size1, mean2, var2, size2, random_state=42)\n",
    "\n",
    "F_value, dfn, dfd, p_value = variance_ratio_test(sample1, sample2)\n",
    "print(f\"F-value: {F_value}\")\n",
    "print(f\"Degrees of freedom (numerator): {dfn}\")\n",
    "print(f\"Degrees of freedom (denominator): {dfd}\")\n",
    "print(f\"P-value: {p_value}\")\n"
   ]
  },
  {
   "cell_type": "code",
   "execution_count": null,
   "id": "3df2f61b-f6fb-4cca-a87f-077621c6c63e",
   "metadata": {},
   "outputs": [],
   "source": []
  },
  {
   "cell_type": "markdown",
   "id": "f90f5ecc-4fb8-4c18-9885-9824c5b15444",
   "metadata": {},
   "source": [
    "Q6. Write a Python function that takes in the degrees of freedom for the numerator and denominator of an\n",
    "F-distribution and calculates the mean and variance of the distribution. The function should return the\n",
    "mean and variance as a tuple."
   ]
  },
  {
   "cell_type": "code",
   "execution_count": 4,
   "id": "36481b71-99ea-4477-a69e-c2ac5c8d6537",
   "metadata": {},
   "outputs": [
    {
     "name": "stdout",
     "output_type": "stream",
     "text": [
      "Mean: 1.25\n",
      "Variance: 1.3541666666666667\n"
     ]
    }
   ],
   "source": [
    "def f_distribution_mean_variance(dfn, dfd):\n",
    "    \"\"\"\n",
    "    Calculate the mean and variance of an F-distribution.\n",
    "\n",
    "    Parameters:\n",
    "    dfn (int): Degrees of freedom for the numerator.\n",
    "    dfd (int): Degrees of freedom for the denominator.\n",
    "\n",
    "    Returns:\n",
    "    tuple: Mean and variance of the F-distribution.\n",
    "    \"\"\"\n",
    "    if dfd > 2:\n",
    "        mean = dfd / (dfd - 2)\n",
    "    else:\n",
    "        mean = None  # Mean is undefined for dfd <= 2\n",
    "\n",
    "    if dfd > 4:\n",
    "        variance = (2 * (dfd**2) * (dfn + dfd - 2)) / (dfn * (dfd - 2)**2 * (dfd - 4))\n",
    "    else:\n",
    "        variance = None  # Variance is undefined for dfd <= 4\n",
    "\n",
    "    return mean, variance\n",
    "\n",
    "# Example usage\n",
    "dfn = 5\n",
    "dfd = 10\n",
    "mean, variance = f_distribution_mean_variance(dfn, dfd)\n",
    "print(f\"Mean: {mean}\")\n",
    "print(f\"Variance: {variance}\")\n"
   ]
  },
  {
   "cell_type": "code",
   "execution_count": null,
   "id": "5538b887-609c-466c-b004-6264363e8768",
   "metadata": {},
   "outputs": [],
   "source": []
  }
 ],
 "metadata": {
  "kernelspec": {
   "display_name": "Python 3 (ipykernel)",
   "language": "python",
   "name": "python3"
  },
  "language_info": {
   "codemirror_mode": {
    "name": "ipython",
    "version": 3
   },
   "file_extension": ".py",
   "mimetype": "text/x-python",
   "name": "python",
   "nbconvert_exporter": "python",
   "pygments_lexer": "ipython3",
   "version": "3.10.8"
  }
 },
 "nbformat": 4,
 "nbformat_minor": 5
}
